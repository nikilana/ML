{
 "cells": [
  {
   "cell_type": "code",
   "execution_count": 7,
   "metadata": {
    "collapsed": true,
    "pycharm": {
     "is_executing": false
    }
   },
   "outputs": [],
   "source": [
    "from time import time\n",
    "import pandas as pd\n",
    "import numpy as np"
   ]
  },
  {
   "cell_type": "markdown",
   "metadata": {},
   "source": [
    "Задание:\n",
    "\n",
    "Расставьте способы взять среднее значение по скорости выполнения сверху вниз - наверху самый быстрый."
   ]
  },
  {
   "cell_type": "code",
   "execution_count": 8,
   "metadata": {
    "pycharm": {
     "is_executing": false,
     "name": "#%%\n"
    }
   },
   "outputs": [
    {
     "name": "stdout",
     "text": [
      "0.010971307754516602\n"
     ],
     "output_type": "stream"
    }
   ],
   "source": [
    "before = time()\n",
    "df = pd.read_csv('data/iris.csv')\n",
    "df.apply(np.mean)\n",
    "after = time()\n",
    "print(after - before)"
   ]
  },
  {
   "cell_type": "code",
   "execution_count": 9,
   "metadata": {
    "pycharm": {
     "is_executing": false,
     "name": "#%%\n"
    }
   },
   "outputs": [
    {
     "name": "stdout",
     "text": [
      "0.004992246627807617\n"
     ],
     "output_type": "stream"
    }
   ],
   "source": [
    "before = time()\n",
    "df = pd.read_csv('data/iris.csv')\n",
    "df.mean(axis=0)\n",
    "after = time()\n",
    "print(after - before)"
   ]
  },
  {
   "cell_type": "code",
   "execution_count": 10,
   "metadata": {
    "pycharm": {
     "is_executing": false,
     "name": "#%%\n"
    }
   },
   "outputs": [
    {
     "name": "stdout",
     "text": [
      "0.020977497100830078\n"
     ],
     "output_type": "stream"
    }
   ],
   "source": [
    "before = time()\n",
    "df = pd.read_csv('data/iris.csv')\n",
    "df.describe().loc['mean']\n",
    "after = time()\n",
    "print(after - before)"
   ]
  },
  {
   "cell_type": "code",
   "execution_count": 11,
   "metadata": {
    "pycharm": {
     "is_executing": false,
     "name": "#%%\n"
    }
   },
   "outputs": [
    {
     "name": "stdout",
     "text": [
      "0.0039904117584228516\n"
     ],
     "output_type": "stream"
    }
   ],
   "source": [
    "before = time()\n",
    "df = pd.read_csv('data/iris.csv')\n",
    "df.apply('mean')\n",
    "after = time()\n",
    "print(after - before)\n"
   ]
  }
 ],
 "metadata": {
  "kernelspec": {
   "display_name": "Python 3",
   "language": "python",
   "name": "python3"
  },
  "language_info": {
   "codemirror_mode": {
    "name": "ipython",
    "version": 3
   },
   "file_extension": ".py",
   "mimetype": "text/x-python",
   "name": "python",
   "nbconvert_exporter": "python",
   "pygments_lexer": "ipython3",
   "version": "3.7.3"
  },
  "pycharm": {
   "stem_cell": {
    "cell_type": "raw",
    "source": [],
    "metadata": {
     "collapsed": false
    }
   }
  }
 },
 "nbformat": 4,
 "nbformat_minor": 1
}