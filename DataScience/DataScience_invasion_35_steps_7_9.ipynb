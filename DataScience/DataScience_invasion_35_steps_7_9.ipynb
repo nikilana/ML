{
 "cells": [
  {
   "cell_type": "code",
   "execution_count": 2,
   "metadata": {
    "collapsed": true,
    "pycharm": {
     "is_executing": false
    }
   },
   "outputs": [],
   "source": [
    "import pandas as pd\n",
    "from sklearn.ensemble import RandomForestClassifier"
   ]
  },
  {
   "cell_type": "markdown",
   "metadata": {},
   "source": [
    "Задание:\n",
    "\n",
    "Обучите модель и предскажите классы кораблей для новых поступающих данных. Укажите в ответе через пробел число крейсеров, транспортников и истребителей."
   ]
  },
  {
   "cell_type": "code",
   "execution_count": 3,
   "metadata": {
    "pycharm": {
     "is_executing": false,
     "name": "#%%\n"
    }
   },
   "outputs": [],
   "source": [
    "data = pd.read_csv('data/invasion.csv')\n",
    "data = data.rename(columns={'class': 'trans'})\n",
    "x_test = pd.read_csv('data/operative_information.csv')"
   ]
  },
  {
   "cell_type": "code",
   "execution_count": 10,
   "metadata": {
    "pycharm": {
     "is_executing": false,
     "name": "#%%\n"
    }
   },
   "outputs": [],
   "source": [
    "X_train = data.drop('trans', axis=1)\n",
    "y_train = data.trans"
   ]
  },
  {
   "cell_type": "code",
   "execution_count": 8,
   "metadata": {
    "pycharm": {
     "is_executing": false,
     "name": "#%%\n"
    }
   },
   "outputs": [
    {
     "name": "stderr",
     "text": [
      "c:\\users\\user\\appdata\\local\\programs\\python\\python37-32\\lib\\site-packages\\sklearn\\ensemble\\forest.py:245: FutureWarning: The default value of n_estimators will change from 10 in version 0.20 to 100 in 0.22.\n  \"10 in version 0.20 to 100 in 0.22.\", FutureWarning)\n"
     ],
     "output_type": "stream"
    }
   ],
   "source": [
    "clf = RandomForestClassifier(criterion='entropy', max_depth=5)\n",
    "clf_rf = clf.fit(X_train, y_train)\n",
    "predictions = clf_rf.predict(x_test)"
   ]
  },
  {
   "cell_type": "code",
   "execution_count": 6,
   "metadata": {
    "pycharm": {
     "is_executing": false,
     "name": "#%%\n"
    }
   },
   "outputs": [
    {
     "data": {
      "text/plain": "fighter      675\ntransport    594\ncruiser      231\ndtype: int64"
     },
     "metadata": {},
     "output_type": "execute_result",
     "execution_count": 6
    }
   ],
   "source": [
    "pd.Series(predictions).value_counts()"
   ]
  },
  {
   "cell_type": "markdown",
   "metadata": {},
   "source": [
    "Задание:\n",
    "\n",
    "Проанализируйте имеющиеся данные об опасности разных регионов космоса и укажите наиболее вероятные причины угрозы"
   ]
  },
  {
   "cell_type": "code",
   "execution_count": 7,
   "metadata": {
    "pycharm": {
     "is_executing": false,
     "name": "#%%\n"
    }
   },
   "outputs": [
    {
     "data": {
      "text/plain": "                                  r       phi  peradventure_index  dustiness  \\\nr                          1.000000  0.001023            1.000000  -0.003336   \nphi                        0.001023  1.000000            0.001023   0.001921   \nperadventure_index         1.000000  0.001023            1.000000  -0.003336   \ndustiness                 -0.003336  0.001921           -0.003336   1.000000   \nblack_hole_is_near         0.002337  0.002875            0.002337  -0.004691   \nbuggers_were_noticed       0.001797 -0.004726            0.001797  -0.001290   \nnearby_system_has_planemo  0.000326 -0.000803            0.000326   0.003370   \ndangerous                  0.005788  0.003035            0.005788  -0.000499   \n\n                           black_hole_is_near  buggers_were_noticed  \\\nr                                    0.002337              0.001797   \nphi                                  0.002875             -0.004726   \nperadventure_index                   0.002337              0.001797   \ndustiness                           -0.004691             -0.001290   \nblack_hole_is_near                   1.000000             -0.001874   \nbuggers_were_noticed                -0.001874              1.000000   \nnearby_system_has_planemo            0.002661             -0.003031   \ndangerous                            0.052968              0.344469   \n\n                           nearby_system_has_planemo  dangerous  \nr                                           0.000326   0.005788  \nphi                                        -0.000803   0.003035  \nperadventure_index                          0.000326   0.005788  \ndustiness                                   0.003370  -0.000499  \nblack_hole_is_near                          0.002661   0.052968  \nbuggers_were_noticed                       -0.003031   0.344469  \nnearby_system_has_planemo                   1.000000   0.299508  \ndangerous                                   0.299508   1.000000  ",
      "text/html": "<div>\n<style scoped>\n    .dataframe tbody tr th:only-of-type {\n        vertical-align: middle;\n    }\n\n    .dataframe tbody tr th {\n        vertical-align: top;\n    }\n\n    .dataframe thead th {\n        text-align: right;\n    }\n</style>\n<table border=\"1\" class=\"dataframe\">\n  <thead>\n    <tr style=\"text-align: right;\">\n      <th></th>\n      <th>r</th>\n      <th>phi</th>\n      <th>peradventure_index</th>\n      <th>dustiness</th>\n      <th>black_hole_is_near</th>\n      <th>buggers_were_noticed</th>\n      <th>nearby_system_has_planemo</th>\n      <th>dangerous</th>\n    </tr>\n  </thead>\n  <tbody>\n    <tr>\n      <td>r</td>\n      <td>1.000000</td>\n      <td>0.001023</td>\n      <td>1.000000</td>\n      <td>-0.003336</td>\n      <td>0.002337</td>\n      <td>0.001797</td>\n      <td>0.000326</td>\n      <td>0.005788</td>\n    </tr>\n    <tr>\n      <td>phi</td>\n      <td>0.001023</td>\n      <td>1.000000</td>\n      <td>0.001023</td>\n      <td>0.001921</td>\n      <td>0.002875</td>\n      <td>-0.004726</td>\n      <td>-0.000803</td>\n      <td>0.003035</td>\n    </tr>\n    <tr>\n      <td>peradventure_index</td>\n      <td>1.000000</td>\n      <td>0.001023</td>\n      <td>1.000000</td>\n      <td>-0.003336</td>\n      <td>0.002337</td>\n      <td>0.001797</td>\n      <td>0.000326</td>\n      <td>0.005788</td>\n    </tr>\n    <tr>\n      <td>dustiness</td>\n      <td>-0.003336</td>\n      <td>0.001921</td>\n      <td>-0.003336</td>\n      <td>1.000000</td>\n      <td>-0.004691</td>\n      <td>-0.001290</td>\n      <td>0.003370</td>\n      <td>-0.000499</td>\n    </tr>\n    <tr>\n      <td>black_hole_is_near</td>\n      <td>0.002337</td>\n      <td>0.002875</td>\n      <td>0.002337</td>\n      <td>-0.004691</td>\n      <td>1.000000</td>\n      <td>-0.001874</td>\n      <td>0.002661</td>\n      <td>0.052968</td>\n    </tr>\n    <tr>\n      <td>buggers_were_noticed</td>\n      <td>0.001797</td>\n      <td>-0.004726</td>\n      <td>0.001797</td>\n      <td>-0.001290</td>\n      <td>-0.001874</td>\n      <td>1.000000</td>\n      <td>-0.003031</td>\n      <td>0.344469</td>\n    </tr>\n    <tr>\n      <td>nearby_system_has_planemo</td>\n      <td>0.000326</td>\n      <td>-0.000803</td>\n      <td>0.000326</td>\n      <td>0.003370</td>\n      <td>0.002661</td>\n      <td>-0.003031</td>\n      <td>1.000000</td>\n      <td>0.299508</td>\n    </tr>\n    <tr>\n      <td>dangerous</td>\n      <td>0.005788</td>\n      <td>0.003035</td>\n      <td>0.005788</td>\n      <td>-0.000499</td>\n      <td>0.052968</td>\n      <td>0.344469</td>\n      <td>0.299508</td>\n      <td>1.000000</td>\n    </tr>\n  </tbody>\n</table>\n</div>"
     },
     "metadata": {},
     "output_type": "execute_result",
     "execution_count": 7
    }
   ],
   "source": [
    "x = pd.read_csv('data/space_can_be_a_dangerous_place.csv')\n",
    "x.corr()"
   ]
  },
  {
   "cell_type": "code",
   "execution_count": 7,
   "outputs": [],
   "source": [
    "\n"
   ],
   "metadata": {
    "collapsed": false,
    "pycharm": {
     "name": "#%%\n",
     "is_executing": false
    }
   }
  }
 ],
 "metadata": {
  "kernelspec": {
   "display_name": "Python 3",
   "language": "python",
   "name": "python3"
  },
  "language_info": {
   "codemirror_mode": {
    "name": "ipython",
    "version": 3
   },
   "file_extension": ".py",
   "mimetype": "text/x-python",
   "name": "python",
   "nbconvert_exporter": "python",
   "pygments_lexer": "ipython3",
   "version": "3.7.3"
  },
  "pycharm": {
   "stem_cell": {
    "cell_type": "raw",
    "source": [],
    "metadata": {
     "collapsed": false
    }
   }
  }
 },
 "nbformat": 4,
 "nbformat_minor": 1
}