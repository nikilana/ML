{
 "cells": [
  {
   "cell_type": "code",
   "execution_count": 2,
   "metadata": {
    "collapsed": true,
    "pycharm": {
     "is_executing": false
    }
   },
   "outputs": [],
   "source": [
    "import pandas as pd\n",
    "from sklearn.tree import DecisionTreeClassifier\n",
    "from sklearn.metrics import precision_score"
   ]
  },
  {
   "cell_type": "markdown",
   "metadata": {},
   "source": [
    "Задание:\n",
    "В задании даны переменные, содержащие информацию о песнях и артистах - X_train, y_train, X_test и y_test.\n",
    "\n",
    "Обучите модель на тренировочных данных, предскажите авторов для тестовых и поместите в переменную predictions. Затем посчитайте precision score на предсказаниях и y_test, укажите параметр average='micro', и сохраните результат в переменную precision."
   ]
  },
  {
   "cell_type": "code",
   "execution_count": 3,
   "metadata": {
    "pycharm": {
     "is_executing": false,
     "name": "#%%\n"
    }
   },
   "outputs": [],
   "source": [
    "data = pd.read_csv('data/songs.csv', index_col=0)\n",
    "X_train = data.drop(['artist', 'genre', 'lyrics'], axis=1)\n",
    "y_train = data.artist"
   ]
  },
  {
   "cell_type": "code",
   "execution_count": 20,
   "metadata": {
    "pycharm": {
     "is_executing": false,
     "name": "#%%\n"
    }
   },
   "outputs": [
    {
     "data": {
      "text/plain": [
       "DecisionTreeClassifier(class_weight=None, criterion='gini', max_depth=None,\n",
       "                       max_features=None, max_leaf_nodes=None,\n",
       "                       min_impurity_decrease=0.0, min_impurity_split=None,\n",
       "                       min_samples_leaf=1, min_samples_split=2,\n",
       "                       min_weight_fraction_leaf=0.0, presort=False,\n",
       "                       random_state=None, splitter='best')"
      ]
     },
     "execution_count": 20,
     "metadata": {},
     "output_type": "execute_result"
    }
   ],
   "source": [
    "clf = DecisionTreeClassifier()\n",
    "clf.fit(X_train, y_train)"
   ]
  },
  {
   "cell_type": "code",
   "execution_count": 22,
   "metadata": {
    "pycharm": {
     "is_executing": false,
     "name": "#%%\n"
    }
   },
   "outputs": [
    {
     "data": {
      "text/plain": [
       "array(['gangstarr', 'blind-guardian', 'blind-guardian', 'blind-guardian',\n",
       "       'gangstarr', 'gangstarr', 'abba', 'abba', 'blind-guardian', 'abba',\n",
       "       'gangstarr', 'abba', 'gangstarr', 'gangstarr', 'blind-guardian',\n",
       "       'blind-guardian', 'abba', 'blind-guardian', 'blind-guardian',\n",
       "       'blind-guardian', 'abba', 'abba', 'blind-guardian',\n",
       "       'blind-guardian', 'blind-guardian', 'blind-guardian', 'gangstarr',\n",
       "       'blind-guardian', 'gangstarr', 'blind-guardian', 'abba', 'abba',\n",
       "       'gangstarr', 'blind-guardian', 'gangstarr', 'gangstarr',\n",
       "       'blind-guardian', 'abba', 'abba', 'gangstarr', 'gangstarr', 'abba',\n",
       "       'gangstarr', 'gangstarr', 'gangstarr', 'gangstarr',\n",
       "       'blind-guardian', 'abba', 'abba', 'gangstarr', 'abba', 'gangstarr',\n",
       "       'blind-guardian', 'gangstarr', 'gangstarr', 'gangstarr', 'abba',\n",
       "       'gangstarr', 'abba', 'abba', 'abba', 'abba', 'blind-guardian',\n",
       "       'blind-guardian', 'gangstarr', 'blind-guardian', 'abba', 'abba',\n",
       "       'gangstarr', 'blind-guardian', 'abba', 'gangstarr', 'gangstarr',\n",
       "       'abba', 'gangstarr', 'abba', 'blind-guardian', 'gangstarr', 'abba',\n",
       "       'gangstarr', 'gangstarr', 'gangstarr', 'abba', 'abba', 'gangstarr',\n",
       "       'blind-guardian', 'blind-guardian', 'gangstarr', 'blind-guardian',\n",
       "       'gangstarr', 'abba', 'abba', 'abba', 'blind-guardian', 'gangstarr',\n",
       "       'abba', 'abba', 'gangstarr', 'abba', 'gangstarr', 'gangstarr',\n",
       "       'gangstarr', 'abba', 'gangstarr', 'abba', 'abba', 'gangstarr',\n",
       "       'abba', 'abba', 'abba', 'abba', 'gangstarr', 'gangstarr',\n",
       "       'gangstarr', 'abba', 'blind-guardian', 'blind-guardian',\n",
       "       'blind-guardian', 'abba', 'gangstarr', 'gangstarr',\n",
       "       'blind-guardian', 'blind-guardian', 'blind-guardian',\n",
       "       'blind-guardian', 'abba', 'blind-guardian', 'blind-guardian',\n",
       "       'gangstarr', 'gangstarr', 'abba', 'blind-guardian',\n",
       "       'blind-guardian', 'abba', 'abba', 'abba', 'abba', 'gangstarr',\n",
       "       'abba', 'blind-guardian', 'abba', 'abba', 'blind-guardian',\n",
       "       'gangstarr', 'gangstarr', 'blind-guardian', 'blind-guardian',\n",
       "       'blind-guardian', 'gangstarr', 'gangstarr', 'gangstarr', 'abba',\n",
       "       'abba', 'blind-guardian', 'abba', 'blind-guardian', 'abba', 'abba',\n",
       "       'abba', 'abba', 'abba', 'blind-guardian', 'gangstarr',\n",
       "       'blind-guardian', 'gangstarr', 'abba', 'abba', 'gangstarr', 'abba',\n",
       "       'gangstarr', 'blind-guardian', 'abba', 'abba', 'gangstarr', 'abba',\n",
       "       'blind-guardian', 'blind-guardian', 'gangstarr', 'blind-guardian',\n",
       "       'abba', 'abba', 'abba', 'abba', 'blind-guardian', 'gangstarr',\n",
       "       'gangstarr', 'gangstarr', 'abba', 'gangstarr', 'blind-guardian',\n",
       "       'blind-guardian', 'gangstarr', 'blind-guardian', 'gangstarr',\n",
       "       'abba', 'blind-guardian', 'abba', 'blind-guardian',\n",
       "       'blind-guardian', 'gangstarr', 'gangstarr', 'abba', 'abba',\n",
       "       'gangstarr', 'blind-guardian', 'abba', 'abba', 'gangstarr', 'abba',\n",
       "       'blind-guardian', 'blind-guardian', 'blind-guardian', 'gangstarr',\n",
       "       'abba', 'gangstarr', 'gangstarr', 'blind-guardian', 'gangstarr',\n",
       "       'blind-guardian', 'blind-guardian', 'abba', 'gangstarr', 'abba',\n",
       "       'blind-guardian', 'abba', 'gangstarr', 'blind-guardian',\n",
       "       'gangstarr', 'abba', 'abba', 'blind-guardian', 'blind-guardian',\n",
       "       'blind-guardian', 'blind-guardian', 'gangstarr', 'gangstarr',\n",
       "       'blind-guardian', 'abba', 'abba', 'gangstarr', 'gangstarr',\n",
       "       'blind-guardian', 'abba', 'blind-guardian', 'abba', 'gangstarr',\n",
       "       'blind-guardian', 'blind-guardian', 'abba', 'gangstarr', 'abba',\n",
       "       'gangstarr', 'blind-guardian', 'blind-guardian', 'abba', 'abba',\n",
       "       'abba', 'gangstarr', 'blind-guardian', 'abba', 'gangstarr',\n",
       "       'gangstarr', 'blind-guardian', 'blind-guardian', 'gangstarr',\n",
       "       'blind-guardian', 'gangstarr', 'gangstarr', 'gangstarr',\n",
       "       'blind-guardian', 'gangstarr', 'abba', 'gangstarr',\n",
       "       'blind-guardian', 'blind-guardian', 'blind-guardian',\n",
       "       'blind-guardian', 'abba', 'blind-guardian', 'gangstarr',\n",
       "       'gangstarr', 'blind-guardian', 'abba', 'gangstarr',\n",
       "       'blind-guardian', 'abba', 'abba', 'gangstarr', 'abba',\n",
       "       'blind-guardian', 'abba', 'gangstarr', 'abba', 'abba', 'abba',\n",
       "       'abba', 'abba', 'blind-guardian', 'blind-guardian', 'gangstarr',\n",
       "       'blind-guardian', 'gangstarr', 'abba', 'blind-guardian', 'abba',\n",
       "       'blind-guardian', 'blind-guardian', 'abba', 'gangstarr',\n",
       "       'gangstarr', 'gangstarr', 'gangstarr', 'abba', 'abba',\n",
       "       'blind-guardian', 'gangstarr', 'gangstarr', 'abba', 'abba', 'abba',\n",
       "       'gangstarr', 'blind-guardian', 'abba', 'abba', 'gangstarr',\n",
       "       'blind-guardian', 'abba', 'blind-guardian', 'gangstarr', 'abba',\n",
       "       'blind-guardian', 'gangstarr', 'gangstarr', 'gangstarr',\n",
       "       'gangstarr', 'blind-guardian', 'gangstarr', 'abba', 'abba',\n",
       "       'gangstarr', 'gangstarr', 'gangstarr', 'blind-guardian',\n",
       "       'blind-guardian', 'blind-guardian', 'abba', 'gangstarr', 'abba',\n",
       "       'gangstarr', 'blind-guardian', 'abba', 'gangstarr', 'gangstarr',\n",
       "       'gangstarr', 'gangstarr', 'abba', 'abba', 'abba', 'gangstarr',\n",
       "       'abba'], dtype=object)"
      ]
     },
     "execution_count": 22,
     "metadata": {},
     "output_type": "execute_result"
    }
   ],
   "source": [
    "predictions = clf.predict(X_test)\n",
    "precision = precision_score(y_test,  predictions,  average= 'micro')  "
   ]
  }
 ],
 "metadata": {
  "kernelspec": {
   "display_name": "Python 3",
   "language": "python",
   "name": "python3"
  },
  "language_info": {
   "codemirror_mode": {
    "name": "ipython",
    "version": 3
   },
   "file_extension": ".py",
   "mimetype": "text/x-python",
   "name": "python",
   "nbconvert_exporter": "python",
   "pygments_lexer": "ipython3",
   "version": "3.7.3"
  },
  "pycharm": {
   "stem_cell": {
    "cell_type": "raw",
    "source": [],
    "metadata": {
     "collapsed": false
    }
   }
  }
 },
 "nbformat": 4,
 "nbformat_minor": 1
}